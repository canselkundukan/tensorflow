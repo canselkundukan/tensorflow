
from google.colab import files
import string

yuklenenDosya = files.upload()



dosya=open("makine.txt","r")
metin=dosya.read()
metin=metin.lower()
print(metin)

kelimeler = metin.split()
print('Toplam kelime sayısı:', len(kelimeler))


anahtarKelimeler=[
                    "bilgi",
                    "belge", 
                    "açık",
                    "erişim", 
                    "bilim", 
                    "büyük",
                    "veri", 
                    "semantik", 
                    "teknoloji", 
                    "makine",
                    "öğrenmesi", 
                    "yapay",
                    "zeka"
]
print(anahtarKelimeler)

 
 

###Kelime Sayma

for word in anahtarKelimeler:
  sonuc= metin.count(word)
  print(word+": " + str(sonuc))

ANAHTAR KELİME DIŞINDAKİ KELİMELERİN KAÇ KERE GEÇTİĞİNİ BULMAK İÇİN İSTEĞİNİZ KELİMEYİ AŞAĞIDAKİ BUTONDAN SORGULAYIN...

metin = input("Lütfen içeriğinizi giriniz:")

 
kelime = metin.split()
###Kelime Sayma
wordcount={}
for word in metin.split():
    if word not in wordcount:
        wordcount[word] = 1
    else:
        wordcount[word] += 1
for key in wordcount.keys():
  print ("%s %s " %(key , wordcount[key]))
